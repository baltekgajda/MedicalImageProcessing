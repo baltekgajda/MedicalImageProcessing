{
 "cells": [
  {
   "cell_type": "code",
   "execution_count": null,
   "metadata": {},
   "outputs": [],
   "source": [
    "#get data from CheXpert based on selected options into single txt file\n",
    "\n",
    "import csv \n",
    "import os\n",
    "\n",
    "csv_file = '/data/chexpert/v1.0-small/train.csv'\n",
    "dataset_dir = '/data/chexpert/v1.0-small/train/'\n",
    "output_file = '/group/cake/bg/MedicalImageProcessing/data/chexpert_v1.0-small_frontal_healthy.txt' #change bg to mg if necessary\n",
    "options = {3:'Frontal', 5:'1.0'}\n",
    "\n",
    "counter = 0\n",
    "with open(csv_file, \"r\") as in_file, open(output_file, \"w\") as out_file:\n",
    "    reader = csv.reader(in_file, delimiter=',')\n",
    "    i = 0\n",
    "    for row in reader:\n",
    "        if not all([row[o_key] == o_value for o_key, o_value in options.items()]):\n",
    "            continue\n",
    "        \n",
    "        counter += 1\n",
    "        out_file.write(os.path.join(dataset_dir,*(row[0].split('/')[2:])))\n",
    "        out_file.write(\"\\n\")\n",
    "        \n",
    "print(\"File {} created with {} rows\".format(os.path.split(output_file)[1],counter))"
   ]
  }
 ],
 "metadata": {
  "kernelspec": {
   "display_name": "Tensorflow1",
   "language": "python",
   "name": "tensorflow1"
  },
  "language_info": {
   "codemirror_mode": {
    "name": "ipython",
    "version": 3
   },
   "file_extension": ".py",
   "mimetype": "text/x-python",
   "name": "python",
   "nbconvert_exporter": "python",
   "pygments_lexer": "ipython3",
   "version": "3.7.7"
  }
 },
 "nbformat": 4,
 "nbformat_minor": 4
}
