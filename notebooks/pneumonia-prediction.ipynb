{
 "cells": [
  {
   "cell_type": "code",
   "execution_count": null,
   "metadata": {},
   "outputs": [],
   "source": [
    "import torch\n",
    "import torch.nn as nn\n",
    "import torchvision\n",
    "import torchvision.transforms as transforms"
   ]
  },
  {
   "cell_type": "code",
   "execution_count": null,
   "metadata": {},
   "outputs": [],
   "source": [
    "!mgenv/bin/pip install matplotlib tensorboard"
   ]
  },
  {
   "cell_type": "code",
   "execution_count": null,
   "metadata": {},
   "outputs": [],
   "source": [
    "torch.cuda.is_available()"
   ]
  },
  {
   "cell_type": "code",
   "execution_count": null,
   "metadata": {},
   "outputs": [],
   "source": [
    "import matplotlib.pyplot as plt\n",
    "%config InlineBackend.figure_format = 'retina'\n",
    "\n",
    "def show(img):\n",
    "    npimg = img.numpy()\n",
    "    plt.imshow(img.permute(1, 2, 0), interpolation='nearest')"
   ]
  },
  {
   "cell_type": "code",
   "execution_count": null,
   "metadata": {},
   "outputs": [],
   "source": [
    "transform_stack = transforms.Compose([\n",
    "    transforms.CenterCrop(2048),\n",
    "    transforms.Resize(256),\n",
    "    transforms.ToTensor(),\n",
    "    transforms.Normalize(mean=[0.485, 0.456, 0.406],\n",
    "                         std=[0.229, 0.224, 0.225]),\n",
    "])\n",
    "train = torchvision.datasets.ImageFolder(\n",
    "    \"/data/kaggle/paultimothymooney/chest-xray-pneumonia/train\",\n",
    "    transform=transform_stack,\n",
    ")\n",
    "val = torchvision.datasets.ImageFolder(\n",
    "    \"/data/kaggle/paultimothymooney/chest-xray-pneumonia/val\",\n",
    "    transform=transform_stack,\n",
    ")"
   ]
  },
  {
   "cell_type": "code",
   "execution_count": null,
   "metadata": {},
   "outputs": [],
   "source": [
    "len(train), len(val)"
   ]
  },
  {
   "cell_type": "code",
   "execution_count": null,
   "metadata": {},
   "outputs": [],
   "source": [
    "train.class_to_idx, val.class_to_idx"
   ]
  },
  {
   "cell_type": "code",
   "execution_count": null,
   "metadata": {},
   "outputs": [],
   "source": [
    "show(train[0][0])"
   ]
  },
  {
   "cell_type": "code",
   "execution_count": null,
   "metadata": {},
   "outputs": [],
   "source": [
    "model = nn.Sequential(\n",
    "    torchvision.models.resnet18(),\n",
    "    nn.Linear(1000, 2),\n",
    ").cuda()"
   ]
  },
  {
   "cell_type": "code",
   "execution_count": null,
   "metadata": {},
   "outputs": [],
   "source": [
    "from torch.utils.tensorboard import SummaryWriter\n",
    "tb_writer = SummaryWriter(\"./logs/001\")"
   ]
  },
  {
   "cell_type": "code",
   "execution_count": null,
   "metadata": {},
   "outputs": [],
   "source": [
    "train_loader = torch.utils.data.DataLoader(train, batch_size=4, shuffle=True, pin_memory=True)\n",
    "val_x, val_y = next(iter(torch.utils.data.DataLoader(train, batch_size=16, shuffle=False)))\n",
    "val_x = val_x.cuda()\n",
    "val_y = val_y.cuda()\n",
    "\n",
    "val_x.size()"
   ]
  },
  {
   "cell_type": "code",
   "execution_count": null,
   "metadata": {},
   "outputs": [],
   "source": [
    "tb_writer.add_images(\"val\", val_x)\n",
    "tb_writer.flush()"
   ]
  },
  {
   "cell_type": "code",
   "execution_count": null,
   "metadata": {},
   "outputs": [],
   "source": [
    "optimizer = torch.optim.Adam(model.parameters(), lr=1e-5)\n",
    "loss = nn.CrossEntropyLoss()"
   ]
  },
  {
   "cell_type": "code",
   "execution_count": null,
   "metadata": {},
   "outputs": [],
   "source": [
    "from tqdm import tqdm"
   ]
  },
  {
   "cell_type": "code",
   "execution_count": null,
   "metadata": {},
   "outputs": [],
   "source": [
    "def validate():\n",
    "    with torch.no_grad():\n",
    "        y_hat = model(val_x)\n",
    "        val_loss = loss(y_hat, val_y)\n",
    "    return val_loss\n",
    "\n",
    "with tqdm(train_loader) as pbar:\n",
    "    for i, batch in enumerate(pbar):\n",
    "\n",
    "        # Run validation before every 10th batch\n",
    "        if i % 10 == 0:\n",
    "            val_loss = validate().item()\n",
    "            tb_writer.add_scalar(\"loss/val\", val_loss, global_step=i)\n",
    "\n",
    "        x, y = batch\n",
    "        x = x.cuda()\n",
    "        y = y.cuda()\n",
    "\n",
    "        if i == 0:\n",
    "            tb_writer.add_images(\"batch/train\", x)\n",
    "\n",
    "        y_hat = model(x)\n",
    "        batch_loss = loss(y_hat, y)\n",
    "\n",
    "        optimizer.zero_grad()\n",
    "        batch_loss.backward()\n",
    "        optimizer.step()\n",
    "\n",
    "        pbar.set_postfix(loss=batch_loss.item(), val_loss=val_loss)\n",
    "        tb_writer.add_scalar(\"loss/train\", batch_loss.item(), global_step=i)\n",
    "\n",
    "\n",
    "val_loss = validate()\n",
    "tb_writer.add_scalar(\"loss/val\", val_loss, global_step=i)"
   ]
  }
 ],
 "metadata": {
  "kernelspec": {
   "display_name": "PyTorch",
   "language": "python",
   "name": "pytorch"
  },
  "language_info": {
   "codemirror_mode": {
    "name": "ipython",
    "version": 3
   },
   "file_extension": ".py",
   "mimetype": "text/x-python",
   "name": "python",
   "nbconvert_exporter": "python",
   "pygments_lexer": "ipython3",
   "version": "3.6.9"
  }
 },
 "nbformat": 4,
 "nbformat_minor": 4
}
