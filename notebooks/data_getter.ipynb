{
 "cells": [
  {
   "cell_type": "code",
   "execution_count": null,
   "metadata": {},
   "outputs": [],
   "source": [
    "#get data from CheXpert based on selected options into single txt file\n",
    "#healthy\n",
    "\n",
    "import csv \n",
    "import os\n",
    "\n",
    "csv_file = '/data/chexpert/v1.0/train.csv'\n",
    "dataset_dir = '/data/chexpert/v1.0/train/'\n",
    "output_file = '/group/cake/bg/MedicalImageProcessing/data/chexpert_v1.0-frontal_healthy.txt' #change bg to mg if necessary\n",
    "options = {3:'Frontal', 5:'1.0'}\n",
    "\n",
    "counter = 0\n",
    "with open(csv_file, \"r\") as in_file, open(output_file, \"w\") as out_file:\n",
    "    reader = csv.reader(in_file, delimiter=',')\n",
    "    next(reader)\n",
    "    for row in reader:\n",
    "        if not all([row[o_key] == o_value for o_key, o_value in options.items()]):\n",
    "            continue\n",
    "        \n",
    "        counter += 1\n",
    "        out_file.write(os.path.join(dataset_dir,*(row[0].split('/')[2:])))\n",
    "        out_file.write(\"\\n\")\n",
    "        \n",
    "print(\"File {} created with {} rows\".format(os.path.split(output_file)[1],counter))"
   ]
  },
  {
   "cell_type": "code",
   "execution_count": null,
   "metadata": {},
   "outputs": [],
   "source": [
    "#get data from CheXpert based on selected options into single txt file\n",
    "#ill\n",
    "\n",
    "import csv \n",
    "import os\n",
    "\n",
    "csv_file = '/data/chexpert/v1.0/train.csv'\n",
    "dataset_dir = '/data/chexpert/v1.0/train/'\n",
    "output_file = '/group/cake/bg/MedicalImageProcessing/data/chexpert_v1.0-frontal_ill.txt' #change bg to mg if necessary\n",
    "options = {3:'Frontal', 5:'1.0'}\n",
    "\n",
    "counter = 0\n",
    "with open(csv_file, \"r\") as in_file, open(output_file, \"w\") as out_file:\n",
    "    reader = csv.reader(in_file, delimiter=',')\n",
    "    next(reader)\n",
    "    for row in reader:\n",
    "        if row[3] != 'Frontal':\n",
    "            continue\n",
    "        if row[5] == '1.0':\n",
    "            continue\n",
    "        \n",
    "        counter += 1\n",
    "        out_file.write(os.path.join(dataset_dir,*(row[0].split('/')[2:])))\n",
    "        out_file.write(\"\\n\")\n",
    "print(\"File {} created with {} rows\".format(os.path.split(output_file)[1],counter))"
   ]
  },
  {
   "cell_type": "code",
   "execution_count": null,
   "metadata": {},
   "outputs": [],
   "source": []
  }
 ],
 "metadata": {
  "kernelspec": {
   "display_name": "Tensorflow1",
   "language": "python",
   "name": "tensorflow1"
  },
  "language_info": {
   "codemirror_mode": {
    "name": "ipython",
    "version": 3
   },
   "file_extension": ".py",
   "mimetype": "text/x-python",
   "name": "python",
   "nbconvert_exporter": "python",
   "pygments_lexer": "ipython3",
   "version": "3.7.7"
  }
 },
 "nbformat": 4,
 "nbformat_minor": 4
}
